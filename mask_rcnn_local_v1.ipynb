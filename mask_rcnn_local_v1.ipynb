{
 "cells": [
  {
   "cell_type": "code",
   "execution_count": 1,
   "id": "170b4034-3cd7-437a-b3cf-9defb7178753",
   "metadata": {},
   "outputs": [
    {
     "name": "stderr",
     "output_type": "stream",
     "text": [
      "\n",
      "A module that was compiled using NumPy 1.x cannot be run in\n",
      "NumPy 2.1.2 as it may crash. To support both 1.x and 2.x\n",
      "versions of NumPy, modules must be compiled with NumPy 2.0.\n",
      "Some module may need to rebuild instead e.g. with 'pybind11>=2.12'.\n",
      "\n",
      "If you are a user of the module, the easiest solution will be to\n",
      "downgrade to 'numpy<2' or try to upgrade the affected module.\n",
      "We expect that some modules will need time to support NumPy 2.\n",
      "\n",
      "Traceback (most recent call last):  File \"/Users/soumendusekharbhattacharjee/anaconda3/envs/mask_rcnn/lib/python3.11/runpy.py\", line 198, in _run_module_as_main\n",
      "    return _run_code(code, main_globals, None,\n",
      "  File \"/Users/soumendusekharbhattacharjee/anaconda3/envs/mask_rcnn/lib/python3.11/runpy.py\", line 88, in _run_code\n",
      "    exec(code, run_globals)\n",
      "  File \"/Users/soumendusekharbhattacharjee/anaconda3/envs/mask_rcnn/lib/python3.11/site-packages/ipykernel_launcher.py\", line 18, in <module>\n",
      "    app.launch_new_instance()\n",
      "  File \"/Users/soumendusekharbhattacharjee/anaconda3/envs/mask_rcnn/lib/python3.11/site-packages/traitlets/config/application.py\", line 1075, in launch_instance\n",
      "    app.start()\n",
      "  File \"/Users/soumendusekharbhattacharjee/anaconda3/envs/mask_rcnn/lib/python3.11/site-packages/ipykernel/kernelapp.py\", line 739, in start\n",
      "    self.io_loop.start()\n",
      "  File \"/Users/soumendusekharbhattacharjee/anaconda3/envs/mask_rcnn/lib/python3.11/site-packages/tornado/platform/asyncio.py\", line 211, in start\n",
      "    self.asyncio_loop.run_forever()\n",
      "  File \"/Users/soumendusekharbhattacharjee/anaconda3/envs/mask_rcnn/lib/python3.11/asyncio/base_events.py\", line 608, in run_forever\n",
      "    self._run_once()\n",
      "  File \"/Users/soumendusekharbhattacharjee/anaconda3/envs/mask_rcnn/lib/python3.11/asyncio/base_events.py\", line 1936, in _run_once\n",
      "    handle._run()\n",
      "  File \"/Users/soumendusekharbhattacharjee/anaconda3/envs/mask_rcnn/lib/python3.11/asyncio/events.py\", line 84, in _run\n",
      "    self._context.run(self._callback, *self._args)\n",
      "  File \"/Users/soumendusekharbhattacharjee/anaconda3/envs/mask_rcnn/lib/python3.11/site-packages/ipykernel/kernelbase.py\", line 545, in dispatch_queue\n",
      "    await self.process_one()\n",
      "  File \"/Users/soumendusekharbhattacharjee/anaconda3/envs/mask_rcnn/lib/python3.11/site-packages/ipykernel/kernelbase.py\", line 534, in process_one\n",
      "    await dispatch(*args)\n",
      "  File \"/Users/soumendusekharbhattacharjee/anaconda3/envs/mask_rcnn/lib/python3.11/site-packages/ipykernel/kernelbase.py\", line 437, in dispatch_shell\n",
      "    await result\n",
      "  File \"/Users/soumendusekharbhattacharjee/anaconda3/envs/mask_rcnn/lib/python3.11/site-packages/ipykernel/ipkernel.py\", line 362, in execute_request\n",
      "    await super().execute_request(stream, ident, parent)\n",
      "  File \"/Users/soumendusekharbhattacharjee/anaconda3/envs/mask_rcnn/lib/python3.11/site-packages/ipykernel/kernelbase.py\", line 778, in execute_request\n",
      "    reply_content = await reply_content\n",
      "  File \"/Users/soumendusekharbhattacharjee/anaconda3/envs/mask_rcnn/lib/python3.11/site-packages/ipykernel/ipkernel.py\", line 449, in do_execute\n",
      "    res = shell.run_cell(\n",
      "  File \"/Users/soumendusekharbhattacharjee/anaconda3/envs/mask_rcnn/lib/python3.11/site-packages/ipykernel/zmqshell.py\", line 549, in run_cell\n",
      "    return super().run_cell(*args, **kwargs)\n",
      "  File \"/Users/soumendusekharbhattacharjee/anaconda3/envs/mask_rcnn/lib/python3.11/site-packages/IPython/core/interactiveshell.py\", line 3098, in run_cell\n",
      "    result = self._run_cell(\n",
      "  File \"/Users/soumendusekharbhattacharjee/anaconda3/envs/mask_rcnn/lib/python3.11/site-packages/IPython/core/interactiveshell.py\", line 3153, in _run_cell\n",
      "    result = runner(coro)\n",
      "  File \"/Users/soumendusekharbhattacharjee/anaconda3/envs/mask_rcnn/lib/python3.11/site-packages/IPython/core/async_helpers.py\", line 128, in _pseudo_sync_runner\n",
      "    coro.send(None)\n",
      "  File \"/Users/soumendusekharbhattacharjee/anaconda3/envs/mask_rcnn/lib/python3.11/site-packages/IPython/core/interactiveshell.py\", line 3362, in run_cell_async\n",
      "    has_raised = await self.run_ast_nodes(code_ast.body, cell_name,\n",
      "  File \"/Users/soumendusekharbhattacharjee/anaconda3/envs/mask_rcnn/lib/python3.11/site-packages/IPython/core/interactiveshell.py\", line 3607, in run_ast_nodes\n",
      "    if await self.run_code(code, result, async_=asy):\n",
      "  File \"/Users/soumendusekharbhattacharjee/anaconda3/envs/mask_rcnn/lib/python3.11/site-packages/IPython/core/interactiveshell.py\", line 3667, in run_code\n",
      "    exec(code_obj, self.user_global_ns, self.user_ns)\n",
      "  File \"/var/folders/lp/71n79hj978xc2t948rmn_1840000gn/T/ipykernel_11359/872005058.py\", line 6, in <module>\n",
      "    import torchvision\n",
      "  File \"/Users/soumendusekharbhattacharjee/anaconda3/envs/mask_rcnn/lib/python3.11/site-packages/torchvision/__init__.py\", line 6, in <module>\n",
      "    from torchvision import datasets, io, models, ops, transforms, utils\n",
      "  File \"/Users/soumendusekharbhattacharjee/anaconda3/envs/mask_rcnn/lib/python3.11/site-packages/torchvision/models/__init__.py\", line 17, in <module>\n",
      "    from . import detection, optical_flow, quantization, segmentation, video\n",
      "  File \"/Users/soumendusekharbhattacharjee/anaconda3/envs/mask_rcnn/lib/python3.11/site-packages/torchvision/models/detection/__init__.py\", line 1, in <module>\n",
      "    from .faster_rcnn import *\n",
      "  File \"/Users/soumendusekharbhattacharjee/anaconda3/envs/mask_rcnn/lib/python3.11/site-packages/torchvision/models/detection/faster_rcnn.py\", line 16, in <module>\n",
      "    from .anchor_utils import AnchorGenerator\n",
      "  File \"/Users/soumendusekharbhattacharjee/anaconda3/envs/mask_rcnn/lib/python3.11/site-packages/torchvision/models/detection/anchor_utils.py\", line 10, in <module>\n",
      "    class AnchorGenerator(nn.Module):\n",
      "  File \"/Users/soumendusekharbhattacharjee/anaconda3/envs/mask_rcnn/lib/python3.11/site-packages/torchvision/models/detection/anchor_utils.py\", line 63, in AnchorGenerator\n",
      "    device: torch.device = torch.device(\"cpu\"),\n",
      "/Users/soumendusekharbhattacharjee/anaconda3/envs/mask_rcnn/lib/python3.11/site-packages/torchvision/models/detection/anchor_utils.py:63: UserWarning: Failed to initialize NumPy: _ARRAY_API not found (Triggered internally at /Users/runner/work/pytorch/pytorch/pytorch/torch/csrc/utils/tensor_numpy.cpp:84.)\n",
      "  device: torch.device = torch.device(\"cpu\"),\n"
     ]
    },
    {
     "name": "stdout",
     "output_type": "stream",
     "text": [
      "Using device: cpu\n",
      "Loading dataset...\n",
      "Found 1411 images\n",
      "Train samples: 80, Val samples: 20\n",
      "Testing data loading...\n",
      "Error loading sample 46: Numpy is not available\n",
      "Batch 0: 1 images\n",
      "Error loading sample 76: Numpy is not available\n",
      "Batch 1: 1 images\n",
      "Error loading sample 53: Numpy is not available\n",
      "Batch 2: 1 images\n",
      "Loading model...\n",
      "Starting training...\n",
      "\n",
      "=== Epoch 1/1 ===\n"
     ]
    },
    {
     "name": "stderr",
     "output_type": "stream",
     "text": [
      "Epoch 0:   0%|                                           | 0/80 [00:00<?, ?it/s]"
     ]
    },
    {
     "name": "stdout",
     "output_type": "stream",
     "text": [
      "Error loading sample 45: Numpy is not available\n"
     ]
    },
    {
     "name": "stderr",
     "output_type": "stream",
     "text": [
      "Epoch 0:   1%|▍                                  | 1/80 [00:02<03:43,  2.83s/it]"
     ]
    },
    {
     "name": "stdout",
     "output_type": "stream",
     "text": [
      "Epoch: 0, Batch: 0, Loss: 2.6758\n",
      "  loss_classifier: 2.6758\n",
      "  loss_box_reg: 0.0000\n",
      "  loss_mask: 0.0000\n",
      "  loss_objectness: 0.0000\n",
      "  loss_rpn_box_reg: 0.0000\n",
      "Error loading sample 78: Numpy is not available\n"
     ]
    },
    {
     "name": "stderr",
     "output_type": "stream",
     "text": [
      "Epoch 0:   2%|▉                                  | 2/80 [00:07<05:15,  4.05s/it]"
     ]
    },
    {
     "name": "stdout",
     "output_type": "stream",
     "text": [
      "Error loading sample 57: Numpy is not available\n"
     ]
    },
    {
     "name": "stderr",
     "output_type": "stream",
     "text": [
      "Epoch 0:   4%|█▎                                 | 3/80 [00:10<04:41,  3.65s/it]"
     ]
    },
    {
     "name": "stdout",
     "output_type": "stream",
     "text": [
      "Error loading sample 47: Numpy is not available\n"
     ]
    },
    {
     "name": "stderr",
     "output_type": "stream",
     "text": [
      "Epoch 0:   5%|█▊                                 | 4/80 [00:14<04:35,  3.62s/it]"
     ]
    },
    {
     "name": "stdout",
     "output_type": "stream",
     "text": [
      "Error loading sample 66: Numpy is not available\n"
     ]
    },
    {
     "name": "stderr",
     "output_type": "stream",
     "text": [
      "Epoch 0:   6%|██▏                                | 5/80 [00:20<05:42,  4.57s/it]"
     ]
    },
    {
     "name": "stdout",
     "output_type": "stream",
     "text": [
      "Error loading sample 41: Numpy is not available\n"
     ]
    },
    {
     "name": "stderr",
     "output_type": "stream",
     "text": [
      "Epoch 0:   8%|██▋                                | 6/80 [01:00<20:29, 16.62s/it]"
     ]
    },
    {
     "name": "stdout",
     "output_type": "stream",
     "text": [
      "Error loading sample 22: Numpy is not available\n"
     ]
    },
    {
     "name": "stderr",
     "output_type": "stream",
     "text": [
      "Epoch 0:   9%|███                                | 7/80 [01:08<16:50, 13.84s/it]"
     ]
    },
    {
     "name": "stdout",
     "output_type": "stream",
     "text": [
      "Error loading sample 51: Numpy is not available\n"
     ]
    },
    {
     "name": "stderr",
     "output_type": "stream",
     "text": [
      "Epoch 0:  10%|███▌                               | 8/80 [01:14<13:20, 11.11s/it]"
     ]
    },
    {
     "name": "stdout",
     "output_type": "stream",
     "text": [
      "Error loading sample 70: Numpy is not available\n"
     ]
    },
    {
     "name": "stderr",
     "output_type": "stream",
     "text": [
      "Epoch 0:  11%|███▉                               | 9/80 [01:19<10:58,  9.27s/it]"
     ]
    },
    {
     "name": "stdout",
     "output_type": "stream",
     "text": [
      "Error loading sample 39: Numpy is not available\n"
     ]
    },
    {
     "name": "stderr",
     "output_type": "stream",
     "text": [
      "Epoch 0:  12%|████▎                             | 10/80 [01:23<08:53,  7.62s/it]"
     ]
    },
    {
     "name": "stdout",
     "output_type": "stream",
     "text": [
      "Error loading sample 42: Numpy is not available\n"
     ]
    },
    {
     "name": "stderr",
     "output_type": "stream",
     "text": [
      "Epoch 0:  14%|████▋                             | 11/80 [01:54<16:54, 14.71s/it]"
     ]
    },
    {
     "name": "stdout",
     "output_type": "stream",
     "text": [
      "Epoch: 0, Batch: 10, Loss: 1.7009\n",
      "  loss_classifier: 1.7008\n",
      "  loss_box_reg: 0.0000\n",
      "  loss_mask: 0.0000\n",
      "  loss_objectness: 0.0001\n",
      "  loss_rpn_box_reg: 0.0000\n",
      "Error loading sample 79: Numpy is not available\n"
     ]
    },
    {
     "name": "stderr",
     "output_type": "stream",
     "text": [
      "Epoch 0:  15%|█████                             | 12/80 [01:58<13:05, 11.56s/it]"
     ]
    },
    {
     "name": "stdout",
     "output_type": "stream",
     "text": [
      "Error loading sample 61: Numpy is not available\n"
     ]
    },
    {
     "name": "stderr",
     "output_type": "stream",
     "text": [
      "Epoch 0:  16%|█████▌                            | 13/80 [02:00<09:43,  8.71s/it]"
     ]
    },
    {
     "name": "stdout",
     "output_type": "stream",
     "text": [
      "Error loading sample 63: Numpy is not available\n"
     ]
    },
    {
     "name": "stderr",
     "output_type": "stream",
     "text": [
      "Epoch 0:  18%|█████▉                            | 14/80 [02:04<08:05,  7.36s/it]"
     ]
    },
    {
     "name": "stdout",
     "output_type": "stream",
     "text": [
      "Error loading sample 72: Numpy is not available\n"
     ]
    },
    {
     "name": "stderr",
     "output_type": "stream",
     "text": [
      "Epoch 0:  19%|██████▍                           | 15/80 [02:07<06:31,  6.02s/it]"
     ]
    },
    {
     "name": "stdout",
     "output_type": "stream",
     "text": [
      "Error loading sample 32: Numpy is not available\n"
     ]
    },
    {
     "name": "stderr",
     "output_type": "stream",
     "text": [
      "Epoch 0:  20%|██████▊                           | 16/80 [02:19<08:25,  7.90s/it]"
     ]
    },
    {
     "name": "stdout",
     "output_type": "stream",
     "text": [
      "Error loading sample 4: Numpy is not available\n"
     ]
    },
    {
     "name": "stderr",
     "output_type": "stream",
     "text": [
      "Epoch 0:  21%|███████▏                          | 17/80 [02:23<07:01,  6.69s/it]"
     ]
    },
    {
     "name": "stdout",
     "output_type": "stream",
     "text": [
      "Error loading sample 38: Numpy is not available\n"
     ]
    },
    {
     "name": "stderr",
     "output_type": "stream",
     "text": [
      "Epoch 0:  22%|███████▋                          | 18/80 [02:26<05:32,  5.36s/it]"
     ]
    },
    {
     "name": "stdout",
     "output_type": "stream",
     "text": [
      "Error loading sample 1: Numpy is not available\n"
     ]
    },
    {
     "name": "stderr",
     "output_type": "stream",
     "text": [
      "Epoch 0:  24%|████████                          | 19/80 [02:36<07:07,  7.00s/it]"
     ]
    },
    {
     "name": "stdout",
     "output_type": "stream",
     "text": [
      "Error loading sample 18: Numpy is not available\n"
     ]
    },
    {
     "name": "stderr",
     "output_type": "stream",
     "text": [
      "Epoch 0:  25%|████████▌                         | 20/80 [03:01<12:17, 12.29s/it]"
     ]
    },
    {
     "name": "stdout",
     "output_type": "stream",
     "text": [
      "Error loading sample 35: Numpy is not available\n"
     ]
    },
    {
     "name": "stderr",
     "output_type": "stream",
     "text": [
      "Epoch 0:  26%|████████▉                         | 21/80 [03:04<09:11,  9.35s/it]"
     ]
    },
    {
     "name": "stdout",
     "output_type": "stream",
     "text": [
      "Epoch: 0, Batch: 20, Loss: 0.3383\n",
      "  loss_classifier: 0.3376\n",
      "  loss_box_reg: 0.0000\n",
      "  loss_mask: 0.0000\n",
      "  loss_objectness: 0.0007\n",
      "  loss_rpn_box_reg: 0.0000\n",
      "Error loading sample 74: Numpy is not available\n"
     ]
    },
    {
     "name": "stderr",
     "output_type": "stream",
     "text": [
      "Epoch 0:  28%|█████████▎                        | 22/80 [03:16<09:50, 10.18s/it]"
     ]
    },
    {
     "name": "stdout",
     "output_type": "stream",
     "text": [
      "Error loading sample 75: Numpy is not available\n"
     ]
    },
    {
     "name": "stderr",
     "output_type": "stream",
     "text": [
      "Epoch 0:  29%|█████████▊                        | 23/80 [03:19<07:35,  8.00s/it]"
     ]
    },
    {
     "name": "stdout",
     "output_type": "stream",
     "text": [
      "Error loading sample 17: Numpy is not available\n"
     ]
    },
    {
     "name": "stderr",
     "output_type": "stream",
     "text": [
      "Epoch 0:  30%|██████████▏                       | 24/80 [03:26<07:11,  7.71s/it]"
     ]
    },
    {
     "name": "stdout",
     "output_type": "stream",
     "text": [
      "Error loading sample 15: Numpy is not available\n"
     ]
    },
    {
     "name": "stderr",
     "output_type": "stream",
     "text": [
      "Epoch 0:  31%|██████████▋                       | 25/80 [03:38<08:23,  9.16s/it]"
     ]
    },
    {
     "name": "stdout",
     "output_type": "stream",
     "text": [
      "Error loading sample 56: Numpy is not available\n"
     ]
    },
    {
     "name": "stderr",
     "output_type": "stream",
     "text": [
      "Epoch 0:  32%|███████████                       | 26/80 [04:47<24:15, 26.96s/it]"
     ]
    },
    {
     "name": "stdout",
     "output_type": "stream",
     "text": [
      "Error loading sample 77: Numpy is not available\n"
     ]
    },
    {
     "name": "stderr",
     "output_type": "stream",
     "text": [
      "Epoch 0:  34%|███████████▍                      | 27/80 [04:50<17:38, 19.97s/it]"
     ]
    },
    {
     "name": "stdout",
     "output_type": "stream",
     "text": [
      "Error loading sample 30: Numpy is not available\n"
     ]
    },
    {
     "name": "stderr",
     "output_type": "stream",
     "text": [
      "Epoch 0:  35%|███████████▉                      | 28/80 [05:07<16:24, 18.92s/it]"
     ]
    },
    {
     "name": "stdout",
     "output_type": "stream",
     "text": [
      "Error loading sample 20: Numpy is not available\n"
     ]
    },
    {
     "name": "stderr",
     "output_type": "stream",
     "text": [
      "Epoch 0:  36%|████████████▎                     | 29/80 [05:30<17:15, 20.31s/it]"
     ]
    },
    {
     "name": "stdout",
     "output_type": "stream",
     "text": [
      "Error loading sample 37: Numpy is not available\n"
     ]
    },
    {
     "name": "stderr",
     "output_type": "stream",
     "text": [
      "Epoch 0:  38%|████████████▊                     | 30/80 [05:35<13:03, 15.66s/it]"
     ]
    },
    {
     "name": "stdout",
     "output_type": "stream",
     "text": [
      "Error loading sample 43: Numpy is not available\n"
     ]
    },
    {
     "name": "stderr",
     "output_type": "stream",
     "text": [
      "Epoch 0:  39%|█████████████▏                    | 31/80 [05:43<10:52, 13.32s/it]"
     ]
    },
    {
     "name": "stdout",
     "output_type": "stream",
     "text": [
      "Epoch: 0, Batch: 30, Loss: 0.0155\n",
      "  loss_classifier: 0.0155\n",
      "  loss_box_reg: 0.0000\n",
      "  loss_mask: 0.0000\n",
      "  loss_objectness: 0.0000\n",
      "  loss_rpn_box_reg: 0.0000\n",
      "Error loading sample 65: Numpy is not available\n"
     ]
    },
    {
     "name": "stderr",
     "output_type": "stream",
     "text": [
      "Epoch 0:  40%|█████████████▌                    | 32/80 [05:46<08:11, 10.25s/it]"
     ]
    },
    {
     "name": "stdout",
     "output_type": "stream",
     "text": [
      "Error loading sample 0: Numpy is not available\n"
     ]
    },
    {
     "name": "stderr",
     "output_type": "stream",
     "text": [
      "Epoch 0:  41%|██████████████                    | 33/80 [06:21<13:45, 17.56s/it]"
     ]
    },
    {
     "name": "stdout",
     "output_type": "stream",
     "text": [
      "Error loading sample 14: Numpy is not available\n"
     ]
    },
    {
     "name": "stderr",
     "output_type": "stream",
     "text": [
      "Epoch 0:  42%|██████████████▍                   | 34/80 [06:51<16:29, 21.51s/it]"
     ]
    },
    {
     "name": "stdout",
     "output_type": "stream",
     "text": [
      "Error loading sample 33: Numpy is not available\n"
     ]
    },
    {
     "name": "stderr",
     "output_type": "stream",
     "text": [
      "Epoch 0:  44%|██████████████▉                   | 35/80 [07:10<15:30, 20.67s/it]"
     ]
    },
    {
     "name": "stdout",
     "output_type": "stream",
     "text": [
      "Error loading sample 55: Numpy is not available\n"
     ]
    },
    {
     "name": "stderr",
     "output_type": "stream",
     "text": [
      "Epoch 0:  45%|███████████████▎                  | 36/80 [07:18<12:23, 16.91s/it]"
     ]
    },
    {
     "name": "stdout",
     "output_type": "stream",
     "text": [
      "Error loading sample 31: Numpy is not available\n"
     ]
    },
    {
     "name": "stderr",
     "output_type": "stream",
     "text": [
      "Epoch 0:  46%|███████████████▋                  | 37/80 [07:31<11:07, 15.53s/it]"
     ]
    },
    {
     "name": "stdout",
     "output_type": "stream",
     "text": [
      "Error loading sample 7: Numpy is not available\n"
     ]
    },
    {
     "name": "stderr",
     "output_type": "stream",
     "text": [
      "Epoch 0:  48%|████████████████▏                 | 38/80 [08:27<19:28, 27.81s/it]"
     ]
    },
    {
     "name": "stdout",
     "output_type": "stream",
     "text": [
      "Error loading sample 25: Numpy is not available\n"
     ]
    },
    {
     "name": "stderr",
     "output_type": "stream",
     "text": [
      "Epoch 0:  49%|████████████████▌                 | 39/80 [08:42<16:16, 23.82s/it]"
     ]
    },
    {
     "name": "stdout",
     "output_type": "stream",
     "text": [
      "Error loading sample 69: Numpy is not available\n"
     ]
    },
    {
     "name": "stderr",
     "output_type": "stream",
     "text": [
      "Epoch 0:  50%|█████████████████                 | 40/80 [08:45<11:48, 17.72s/it]"
     ]
    },
    {
     "name": "stdout",
     "output_type": "stream",
     "text": [
      "Error loading sample 60: Numpy is not available\n"
     ]
    },
    {
     "name": "stderr",
     "output_type": "stream",
     "text": [
      "Epoch 0:  51%|█████████████████▍                | 41/80 [08:53<09:35, 14.76s/it]"
     ]
    },
    {
     "name": "stdout",
     "output_type": "stream",
     "text": [
      "Epoch: 0, Batch: 40, Loss: 0.0070\n",
      "  loss_classifier: 0.0070\n",
      "  loss_box_reg: 0.0000\n",
      "  loss_mask: 0.0000\n",
      "  loss_objectness: 0.0000\n",
      "  loss_rpn_box_reg: 0.0000\n",
      "Error loading sample 24: Numpy is not available\n"
     ]
    },
    {
     "name": "stderr",
     "output_type": "stream",
     "text": [
      "Epoch 0:  52%|█████████████████▊                | 42/80 [09:03<08:30, 13.44s/it]"
     ]
    },
    {
     "name": "stdout",
     "output_type": "stream",
     "text": [
      "Error loading sample 34: Numpy is not available\n"
     ]
    },
    {
     "name": "stderr",
     "output_type": "stream",
     "text": [
      "Epoch 0:  54%|██████████████████▎               | 43/80 [09:56<15:31, 25.18s/it]"
     ]
    },
    {
     "name": "stdout",
     "output_type": "stream",
     "text": [
      "Error loading sample 11: Numpy is not available\n"
     ]
    },
    {
     "name": "stderr",
     "output_type": "stream",
     "text": [
      "Epoch 0:  55%|██████████████████▋               | 44/80 [10:12<13:28, 22.45s/it]"
     ]
    },
    {
     "name": "stdout",
     "output_type": "stream",
     "text": [
      "Error loading sample 13: Numpy is not available\n"
     ]
    },
    {
     "name": "stderr",
     "output_type": "stream",
     "text": [
      "Epoch 0:  56%|███████████████████▏              | 45/80 [10:35<13:07, 22.51s/it]"
     ]
    },
    {
     "name": "stdout",
     "output_type": "stream",
     "text": [
      "Error loading sample 10: Numpy is not available\n"
     ]
    },
    {
     "name": "stderr",
     "output_type": "stream",
     "text": [
      "Epoch 0:  57%|███████████████████▌              | 46/80 [11:09<14:42, 25.96s/it]"
     ]
    },
    {
     "name": "stdout",
     "output_type": "stream",
     "text": [
      "Error loading sample 40: Numpy is not available\n"
     ]
    },
    {
     "name": "stderr",
     "output_type": "stream",
     "text": [
      "Epoch 0:  59%|███████████████████▉              | 47/80 [11:11<10:25, 18.96s/it]"
     ]
    },
    {
     "name": "stdout",
     "output_type": "stream",
     "text": [
      "Error loading sample 21: Numpy is not available\n"
     ]
    },
    {
     "name": "stderr",
     "output_type": "stream",
     "text": [
      "Epoch 0:  60%|████████████████████▍             | 48/80 [11:25<09:15, 17.37s/it]"
     ]
    },
    {
     "name": "stdout",
     "output_type": "stream",
     "text": [
      "Error loading sample 54: Numpy is not available\n"
     ]
    },
    {
     "name": "stderr",
     "output_type": "stream",
     "text": [
      "Epoch 0:  61%|████████████████████▊             | 49/80 [11:30<07:06, 13.76s/it]"
     ]
    },
    {
     "name": "stdout",
     "output_type": "stream",
     "text": [
      "Error loading sample 76: Numpy is not available\n"
     ]
    },
    {
     "name": "stderr",
     "output_type": "stream",
     "text": [
      "Epoch 0:  62%|█████████████████████▎            | 50/80 [11:47<07:17, 14.57s/it]"
     ]
    },
    {
     "name": "stdout",
     "output_type": "stream",
     "text": [
      "Error loading sample 67: Numpy is not available\n"
     ]
    },
    {
     "name": "stderr",
     "output_type": "stream",
     "text": [
      "Epoch 0:  64%|█████████████████████▋            | 51/80 [12:00<06:47, 14.06s/it]"
     ]
    },
    {
     "name": "stdout",
     "output_type": "stream",
     "text": [
      "Epoch: 0, Batch: 50, Loss: 0.0004\n",
      "  loss_classifier: 0.0004\n",
      "  loss_box_reg: 0.0000\n",
      "  loss_mask: 0.0000\n",
      "  loss_objectness: 0.0000\n",
      "  loss_rpn_box_reg: 0.0000\n",
      "Error loading sample 5: Numpy is not available\n"
     ]
    },
    {
     "name": "stderr",
     "output_type": "stream",
     "text": [
      "Epoch 0:  65%|██████████████████████            | 52/80 [12:08<05:50, 12.51s/it]"
     ]
    },
    {
     "name": "stdout",
     "output_type": "stream",
     "text": [
      "Error loading sample 12: Numpy is not available\n"
     ]
    },
    {
     "name": "stderr",
     "output_type": "stream",
     "text": [
      "Epoch 0:  66%|██████████████████████▌           | 53/80 [12:45<08:50, 19.64s/it]"
     ]
    },
    {
     "name": "stdout",
     "output_type": "stream",
     "text": [
      "Error loading sample 3: Numpy is not available\n"
     ]
    },
    {
     "name": "stderr",
     "output_type": "stream",
     "text": [
      "Epoch 0:  68%|██████████████████████▉           | 54/80 [12:48<06:25, 14.83s/it]"
     ]
    },
    {
     "name": "stdout",
     "output_type": "stream",
     "text": [
      "Error loading sample 68: Numpy is not available\n"
     ]
    },
    {
     "name": "stderr",
     "output_type": "stream",
     "text": [
      "Epoch 0:  69%|███████████████████████▍          | 55/80 [12:51<04:41, 11.26s/it]"
     ]
    },
    {
     "name": "stdout",
     "output_type": "stream",
     "text": [
      "Error loading sample 9: Numpy is not available\n"
     ]
    },
    {
     "name": "stderr",
     "output_type": "stream",
     "text": [
      "Epoch 0:  70%|███████████████████████▊          | 56/80 [12:58<03:59,  9.98s/it]"
     ]
    },
    {
     "name": "stdout",
     "output_type": "stream",
     "text": [
      "Error loading sample 6: Numpy is not available\n"
     ]
    },
    {
     "name": "stderr",
     "output_type": "stream",
     "text": [
      "Epoch 0:  71%|████████████████████████▏         | 57/80 [13:04<03:17,  8.61s/it]"
     ]
    },
    {
     "name": "stdout",
     "output_type": "stream",
     "text": [
      "Error loading sample 73: Numpy is not available\n"
     ]
    },
    {
     "name": "stderr",
     "output_type": "stream",
     "text": [
      "Epoch 0:  72%|████████████████████████▋         | 58/80 [13:08<02:40,  7.28s/it]"
     ]
    },
    {
     "name": "stdout",
     "output_type": "stream",
     "text": [
      "Error loading sample 28: Numpy is not available\n"
     ]
    },
    {
     "name": "stderr",
     "output_type": "stream",
     "text": [
      "Epoch 0:  74%|█████████████████████████         | 59/80 [13:12<02:12,  6.32s/it]"
     ]
    },
    {
     "name": "stdout",
     "output_type": "stream",
     "text": [
      "Error loading sample 27: Numpy is not available\n"
     ]
    },
    {
     "name": "stderr",
     "output_type": "stream",
     "text": [
      "Epoch 0:  75%|█████████████████████████▌        | 60/80 [13:20<02:16,  6.81s/it]"
     ]
    },
    {
     "name": "stdout",
     "output_type": "stream",
     "text": [
      "Error loading sample 2: Numpy is not available\n"
     ]
    },
    {
     "name": "stderr",
     "output_type": "stream",
     "text": [
      "Epoch 0:  76%|█████████████████████████▉        | 61/80 [13:29<02:20,  7.42s/it]"
     ]
    },
    {
     "name": "stdout",
     "output_type": "stream",
     "text": [
      "Epoch: 0, Batch: 60, Loss: 0.0004\n",
      "  loss_classifier: 0.0004\n",
      "  loss_box_reg: 0.0000\n",
      "  loss_mask: 0.0000\n",
      "  loss_objectness: 0.0000\n",
      "  loss_rpn_box_reg: 0.0000\n",
      "Error loading sample 53: Numpy is not available\n"
     ]
    },
    {
     "name": "stderr",
     "output_type": "stream",
     "text": [
      "Epoch 0:  78%|██████████████████████████▎       | 62/80 [13:32<01:49,  6.10s/it]"
     ]
    },
    {
     "name": "stdout",
     "output_type": "stream",
     "text": [
      "Error loading sample 62: Numpy is not available\n"
     ]
    },
    {
     "name": "stderr",
     "output_type": "stream",
     "text": [
      "Epoch 0:  79%|██████████████████████████▊       | 63/80 [13:37<01:41,  5.95s/it]"
     ]
    },
    {
     "name": "stdout",
     "output_type": "stream",
     "text": [
      "Error loading sample 50: Numpy is not available\n"
     ]
    },
    {
     "name": "stderr",
     "output_type": "stream",
     "text": [
      "Epoch 0:  80%|███████████████████████████▏      | 64/80 [13:41<01:26,  5.39s/it]"
     ]
    },
    {
     "name": "stdout",
     "output_type": "stream",
     "text": [
      "Error loading sample 26: Numpy is not available\n"
     ]
    },
    {
     "name": "stderr",
     "output_type": "stream",
     "text": [
      "Epoch 0:  81%|███████████████████████████▋      | 65/80 [13:49<01:30,  6.05s/it]"
     ]
    },
    {
     "name": "stdout",
     "output_type": "stream",
     "text": [
      "Error loading sample 58: Numpy is not available\n"
     ]
    },
    {
     "name": "stderr",
     "output_type": "stream",
     "text": [
      "Epoch 0:  82%|████████████████████████████      | 66/80 [14:00<01:46,  7.61s/it]"
     ]
    },
    {
     "name": "stdout",
     "output_type": "stream",
     "text": [
      "Error loading sample 49: Numpy is not available\n"
     ]
    },
    {
     "name": "stderr",
     "output_type": "stream",
     "text": [
      "Epoch 0:  84%|████████████████████████████▍     | 67/80 [14:03<01:19,  6.13s/it]"
     ]
    },
    {
     "name": "stdout",
     "output_type": "stream",
     "text": [
      "Error loading sample 52: Numpy is not available\n"
     ]
    },
    {
     "name": "stderr",
     "output_type": "stream",
     "text": [
      "Epoch 0:  85%|████████████████████████████▉     | 68/80 [14:06<01:01,  5.13s/it]"
     ]
    },
    {
     "name": "stdout",
     "output_type": "stream",
     "text": [
      "Error loading sample 29: Numpy is not available\n"
     ]
    },
    {
     "name": "stderr",
     "output_type": "stream",
     "text": [
      "Epoch 0:  86%|█████████████████████████████▎    | 69/80 [14:12<01:01,  5.60s/it]"
     ]
    },
    {
     "name": "stdout",
     "output_type": "stream",
     "text": [
      "Error loading sample 71: Numpy is not available\n"
     ]
    },
    {
     "name": "stderr",
     "output_type": "stream",
     "text": [
      "Epoch 0:  88%|█████████████████████████████▊    | 70/80 [14:16<00:48,  4.85s/it]"
     ]
    },
    {
     "name": "stdout",
     "output_type": "stream",
     "text": [
      "Error loading sample 8: Numpy is not available\n"
     ]
    },
    {
     "name": "stderr",
     "output_type": "stream",
     "text": [
      "Epoch 0:  89%|██████████████████████████████▏   | 71/80 [14:21<00:44,  4.96s/it]"
     ]
    },
    {
     "name": "stdout",
     "output_type": "stream",
     "text": [
      "Epoch: 0, Batch: 70, Loss: 0.0004\n",
      "  loss_classifier: 0.0004\n",
      "  loss_box_reg: 0.0000\n",
      "  loss_mask: 0.0000\n",
      "  loss_objectness: 0.0000\n",
      "  loss_rpn_box_reg: 0.0000\n",
      "Error loading sample 19: Numpy is not available\n"
     ]
    },
    {
     "name": "stderr",
     "output_type": "stream",
     "text": [
      "Epoch 0:  90%|██████████████████████████████▌   | 72/80 [14:36<01:05,  8.18s/it]"
     ]
    },
    {
     "name": "stdout",
     "output_type": "stream",
     "text": [
      "Error loading sample 16: Numpy is not available\n"
     ]
    },
    {
     "name": "stderr",
     "output_type": "stream",
     "text": [
      "Epoch 0:  91%|███████████████████████████████   | 73/80 [14:48<01:04,  9.19s/it]"
     ]
    },
    {
     "name": "stdout",
     "output_type": "stream",
     "text": [
      "Error loading sample 36: Numpy is not available\n"
     ]
    },
    {
     "name": "stderr",
     "output_type": "stream",
     "text": [
      "Epoch 0:  92%|███████████████████████████████▍  | 74/80 [14:52<00:45,  7.63s/it]"
     ]
    },
    {
     "name": "stdout",
     "output_type": "stream",
     "text": [
      "Error loading sample 48: Numpy is not available\n"
     ]
    },
    {
     "name": "stderr",
     "output_type": "stream",
     "text": [
      "Epoch 0:  94%|███████████████████████████████▉  | 75/80 [14:56<00:32,  6.55s/it]"
     ]
    },
    {
     "name": "stdout",
     "output_type": "stream",
     "text": [
      "Error loading sample 59: Numpy is not available\n"
     ]
    },
    {
     "name": "stderr",
     "output_type": "stream",
     "text": [
      "Epoch 0:  95%|████████████████████████████████▎ | 76/80 [15:02<00:25,  6.39s/it]"
     ]
    },
    {
     "name": "stdout",
     "output_type": "stream",
     "text": [
      "Error loading sample 46: Numpy is not available\n"
     ]
    },
    {
     "name": "stderr",
     "output_type": "stream",
     "text": [
      "Epoch 0:  96%|████████████████████████████████▋ | 77/80 [15:05<00:16,  5.51s/it]"
     ]
    },
    {
     "name": "stdout",
     "output_type": "stream",
     "text": [
      "Error loading sample 44: Numpy is not available\n"
     ]
    },
    {
     "name": "stderr",
     "output_type": "stream",
     "text": [
      "Epoch 0:  98%|█████████████████████████████████▏| 78/80 [15:36<00:26, 13.09s/it]"
     ]
    },
    {
     "name": "stdout",
     "output_type": "stream",
     "text": [
      "Error loading sample 64: Numpy is not available\n"
     ]
    },
    {
     "name": "stderr",
     "output_type": "stream",
     "text": [
      "Epoch 0:  99%|█████████████████████████████████▌| 79/80 [15:48<00:12, 12.66s/it]"
     ]
    },
    {
     "name": "stdout",
     "output_type": "stream",
     "text": [
      "Error loading sample 23: Numpy is not available\n"
     ]
    },
    {
     "name": "stderr",
     "output_type": "stream",
     "text": [
      "Epoch 0: 100%|██████████████████████████████████| 80/80 [15:54<00:00, 11.93s/it]\n",
      "Evaluating:   0%|                                        | 0/20 [00:00<?, ?it/s]"
     ]
    },
    {
     "name": "stdout",
     "output_type": "stream",
     "text": [
      "Error loading sample 80: Numpy is not available\n"
     ]
    },
    {
     "name": "stderr",
     "output_type": "stream",
     "text": [
      "Evaluating:   5%|█▌                              | 1/20 [00:20<06:28, 20.43s/it]"
     ]
    },
    {
     "name": "stdout",
     "output_type": "stream",
     "text": [
      "Error in evaluation batch 0: 'list' object has no attribute 'values'\n",
      "Error loading sample 81: Numpy is not available\n"
     ]
    },
    {
     "name": "stderr",
     "output_type": "stream",
     "text": [
      "Evaluating:  10%|███▏                            | 2/20 [00:56<08:54, 29.68s/it]"
     ]
    },
    {
     "name": "stdout",
     "output_type": "stream",
     "text": [
      "Error in evaluation batch 1: 'list' object has no attribute 'values'\n",
      "Error loading sample 82: Numpy is not available\n"
     ]
    },
    {
     "name": "stderr",
     "output_type": "stream",
     "text": [
      "Evaluating:  15%|████▊                           | 3/20 [01:01<05:14, 18.51s/it]"
     ]
    },
    {
     "name": "stdout",
     "output_type": "stream",
     "text": [
      "Error in evaluation batch 2: 'list' object has no attribute 'values'\n",
      "Error loading sample 83: Numpy is not available\n"
     ]
    },
    {
     "name": "stderr",
     "output_type": "stream",
     "text": [
      "Evaluating:  20%|██████▍                         | 4/20 [01:09<03:47, 14.21s/it]"
     ]
    },
    {
     "name": "stdout",
     "output_type": "stream",
     "text": [
      "Error in evaluation batch 3: 'list' object has no attribute 'values'\n",
      "Error loading sample 84: Numpy is not available\n"
     ]
    },
    {
     "name": "stderr",
     "output_type": "stream",
     "text": [
      "Evaluating:  25%|████████                        | 5/20 [01:14<02:42, 10.87s/it]"
     ]
    },
    {
     "name": "stdout",
     "output_type": "stream",
     "text": [
      "Error in evaluation batch 4: 'list' object has no attribute 'values'\n",
      "Error loading sample 85: Numpy is not available\n"
     ]
    },
    {
     "name": "stderr",
     "output_type": "stream",
     "text": [
      "Evaluating:  30%|█████████▌                      | 6/20 [01:15<01:46,  7.59s/it]"
     ]
    },
    {
     "name": "stdout",
     "output_type": "stream",
     "text": [
      "Error in evaluation batch 5: 'list' object has no attribute 'values'\n",
      "Error loading sample 86: Numpy is not available\n"
     ]
    },
    {
     "name": "stderr",
     "output_type": "stream",
     "text": [
      "Evaluating:  35%|███████████▏                    | 7/20 [01:20<01:28,  6.79s/it]"
     ]
    },
    {
     "name": "stdout",
     "output_type": "stream",
     "text": [
      "Error in evaluation batch 6: 'list' object has no attribute 'values'\n",
      "Error loading sample 87: Numpy is not available\n"
     ]
    },
    {
     "name": "stderr",
     "output_type": "stream",
     "text": [
      "Evaluating:  40%|████████████▊                   | 8/20 [01:36<01:57,  9.79s/it]"
     ]
    },
    {
     "name": "stdout",
     "output_type": "stream",
     "text": [
      "Error in evaluation batch 7: 'list' object has no attribute 'values'\n",
      "Error loading sample 88: Numpy is not available\n"
     ]
    },
    {
     "name": "stderr",
     "output_type": "stream",
     "text": [
      "Evaluating:  45%|██████████████▍                 | 9/20 [01:41<01:31,  8.30s/it]"
     ]
    },
    {
     "name": "stdout",
     "output_type": "stream",
     "text": [
      "Error in evaluation batch 8: 'list' object has no attribute 'values'\n",
      "Error loading sample 89: Numpy is not available\n"
     ]
    },
    {
     "name": "stderr",
     "output_type": "stream",
     "text": [
      "Evaluating:  50%|███████████████▌               | 10/20 [01:47<01:14,  7.47s/it]"
     ]
    },
    {
     "name": "stdout",
     "output_type": "stream",
     "text": [
      "Error in evaluation batch 9: 'list' object has no attribute 'values'\n",
      "Error loading sample 90: Numpy is not available\n"
     ]
    },
    {
     "name": "stderr",
     "output_type": "stream",
     "text": [
      "Evaluating:  55%|█████████████████              | 11/20 [01:52<01:00,  6.67s/it]"
     ]
    },
    {
     "name": "stdout",
     "output_type": "stream",
     "text": [
      "Error in evaluation batch 10: 'list' object has no attribute 'values'\n",
      "Error loading sample 91: Numpy is not available\n"
     ]
    },
    {
     "name": "stderr",
     "output_type": "stream",
     "text": [
      "Evaluating:  60%|██████████████████▌            | 12/20 [01:54<00:42,  5.26s/it]"
     ]
    },
    {
     "name": "stdout",
     "output_type": "stream",
     "text": [
      "Error in evaluation batch 11: 'list' object has no attribute 'values'\n",
      "Error loading sample 92: Numpy is not available\n"
     ]
    },
    {
     "name": "stderr",
     "output_type": "stream",
     "text": [
      "Evaluating:  65%|████████████████████▏          | 13/20 [01:57<00:31,  4.53s/it]"
     ]
    },
    {
     "name": "stdout",
     "output_type": "stream",
     "text": [
      "Error in evaluation batch 12: 'list' object has no attribute 'values'\n",
      "Error loading sample 93: Numpy is not available\n"
     ]
    },
    {
     "name": "stderr",
     "output_type": "stream",
     "text": [
      "Evaluating:  70%|█████████████████████▋         | 14/20 [01:59<00:23,  3.90s/it]"
     ]
    },
    {
     "name": "stdout",
     "output_type": "stream",
     "text": [
      "Error in evaluation batch 13: 'list' object has no attribute 'values'\n",
      "Error loading sample 94: Numpy is not available\n"
     ]
    },
    {
     "name": "stderr",
     "output_type": "stream",
     "text": [
      "Evaluating:  75%|███████████████████████▎       | 15/20 [02:01<00:16,  3.25s/it]"
     ]
    },
    {
     "name": "stdout",
     "output_type": "stream",
     "text": [
      "Error in evaluation batch 14: 'list' object has no attribute 'values'\n",
      "Error loading sample 95: Numpy is not available\n"
     ]
    },
    {
     "name": "stderr",
     "output_type": "stream",
     "text": [
      "Evaluating:  80%|████████████████████████▊      | 16/20 [02:03<00:10,  2.73s/it]"
     ]
    },
    {
     "name": "stdout",
     "output_type": "stream",
     "text": [
      "Error in evaluation batch 15: 'list' object has no attribute 'values'\n",
      "Error loading sample 96: Numpy is not available\n"
     ]
    },
    {
     "name": "stderr",
     "output_type": "stream",
     "text": [
      "Evaluating:  85%|██████████████████████████▎    | 17/20 [02:05<00:07,  2.59s/it]"
     ]
    },
    {
     "name": "stdout",
     "output_type": "stream",
     "text": [
      "Error in evaluation batch 16: 'list' object has no attribute 'values'\n",
      "Error loading sample 97: Numpy is not available\n"
     ]
    },
    {
     "name": "stderr",
     "output_type": "stream",
     "text": [
      "Evaluating:  90%|███████████████████████████▉   | 18/20 [02:15<00:09,  4.73s/it]"
     ]
    },
    {
     "name": "stdout",
     "output_type": "stream",
     "text": [
      "Error in evaluation batch 17: 'list' object has no attribute 'values'\n",
      "Error loading sample 98: Numpy is not available\n"
     ]
    },
    {
     "name": "stderr",
     "output_type": "stream",
     "text": [
      "Evaluating:  95%|█████████████████████████████▍ | 19/20 [02:19<00:04,  4.72s/it]"
     ]
    },
    {
     "name": "stdout",
     "output_type": "stream",
     "text": [
      "Error in evaluation batch 18: 'list' object has no attribute 'values'\n",
      "Error loading sample 99: Numpy is not available\n"
     ]
    },
    {
     "name": "stderr",
     "output_type": "stream",
     "text": [
      "Evaluating: 100%|███████████████████████████████| 20/20 [02:21<00:00,  7.07s/it]"
     ]
    },
    {
     "name": "stdout",
     "output_type": "stream",
     "text": [
      "Error in evaluation batch 19: 'list' object has no attribute 'values'\n",
      "Epoch 1: Train Loss: 0.4474, Val Loss: 0.0000\n",
      "Learning Rate: 0.001000\n"
     ]
    },
    {
     "name": "stderr",
     "output_type": "stream",
     "text": [
      "\n"
     ]
    },
    {
     "name": "stdout",
     "output_type": "stream",
     "text": [
      "Checkpoint saved: maskrcnn_epoch_0.pth\n"
     ]
    },
    {
     "data": {
      "image/png": "[encoded data removed]",
      "text/plain": [
       "<Figure size 1000x500 with 1 Axes>"
      ]
     },
     "metadata": {},
     "output_type": "display_data"
    },
    {
     "name": "stdout",
     "output_type": "stream",
     "text": [
      "Training completed successfully!\n"
     ]
    }
   ],
   "source": [
    "import os\n",
    "import torch\n",
    "import torch.nn as nn\n",
    "import torch.optim as optim\n",
    "from torch.utils.data import Dataset, DataLoader\n",
    "import torchvision\n",
    "from torchvision import transforms\n",
    "from torchvision.models.detection import maskrcnn_resnet50_fpn\n",
    "from torchvision.models.detection.faster_rcnn import FastRCNNPredictor\n",
    "from torchvision.models.detection.mask_rcnn import MaskRCNNPredictor\n",
    "import numpy as np\n",
    "from PIL import Image\n",
    "import json\n",
    "import cv2\n",
    "from pathlib import Path\n",
    "from tqdm import tqdm\n",
    "import matplotlib.pyplot as plt\n",
    "import warnings\n",
    "warnings.filterwarnings(\"ignore\")\n",
    "\n",
    "\n",
    "class iSAIDDataset(Dataset):\n",
    "    def __init__(self, root_dir, transforms=None):\n",
    "        \"\"\"\n",
    "        iSAID Dataset for Mask R-CNN training\n",
    "        \n",
    "        Args:\n",
    "            root_dir: Path to the iSAID train directory\n",
    "            transforms: Optional transforms to apply\n",
    "        \"\"\"\n",
    "        self.root_dir = Path(root_dir)\n",
    "        self.transforms = transforms\n",
    "        \n",
    "        # Paths to different directories\n",
    "        self.annotations_dir = self.root_dir / \"Annotations\"\n",
    "        self.instance_masks_dir = self.root_dir / \"Instance_masks\" / \"images\"\n",
    "        self.semantic_masks_dir = self.root_dir / \"Semantic_masks\" / \"images\"\n",
    "        \n",
    "        # Check if directories exist\n",
    "        if not self.instance_masks_dir.exists():\n",
    "            raise ValueError(f\"Instance masks directory not found: {self.instance_masks_dir}\")\n",
    "        if not self.semantic_masks_dir.exists():\n",
    "            raise ValueError(f\"Semantic masks directory not found: {self.semantic_masks_dir}\")\n",
    "        \n",
    "        # Get all image files\n",
    "        self.image_files = sorted([f for f in os.listdir(self.instance_masks_dir) \n",
    "                                 if f.endswith('.png')])\n",
    "        \n",
    "        print(f\"Found {len(self.image_files)} images\")\n",
    "        \n",
    "        # iSAID class mapping (15 classes + background)\n",
    "        self.classes = [\n",
    "            'background', 'ship', 'storage_tank', 'baseball_diamond', \n",
    "            'tennis_court', 'basketball_court', 'ground_track_field',\n",
    "            'bridge', 'large_vehicle', 'small_vehicle', 'helicopter',\n",
    "            'swimming_pool', 'roundabout', 'soccer_ball_field', \n",
    "            'plane', 'harbor'\n",
    "        ]\n",
    "        \n",
    "        self.class_to_idx = {cls: idx for idx, cls in enumerate(self.classes)}\n",
    "        \n",
    "        # Create RGB to class mapping for iSAID semantic masks\n",
    "        self.rgb_to_class = self.create_rgb_mapping()\n",
    "        \n",
    "    def create_rgb_mapping(self):\n",
    "        \"\"\"Create RGB to class index mapping for iSAID\"\"\"\n",
    "        # iSAID typically uses specific RGB values for each class\n",
    "        # You may need to adjust these based on your actual semantic mask colors\n",
    "        rgb_mapping = {\n",
    "            (0, 0, 0): 0,        # background\n",
    "            (0, 0, 63): 1,       # ship\n",
    "            (0, 63, 63): 2,      # storage_tank\n",
    "            (0, 63, 0): 3,       # baseball_diamond\n",
    "            (0, 63, 127): 4,     # tennis_court\n",
    "            (0, 63, 191): 5,     # basketball_court\n",
    "            (0, 63, 255): 6,     # ground_track_field\n",
    "            (0, 127, 63): 7,     # bridge\n",
    "            (0, 127, 127): 8,    # large_vehicle\n",
    "            (0, 0, 127): 9,      # small_vehicle\n",
    "            (0, 0, 191): 10,     # helicopter\n",
    "            (0, 0, 255): 11,     # swimming_pool\n",
    "            (0, 191, 127): 12,   # roundabout\n",
    "            (0, 127, 191): 13,   # soccer_ball_field\n",
    "            (0, 127, 255): 14,   # plane\n",
    "            (0, 100, 155): 15,   # harbor\n",
    "        }\n",
    "        return rgb_mapping\n",
    "        \n",
    "    def __len__(self):\n",
    "        return len(self.image_files)\n",
    "    \n",
    "    def __getitem__(self, idx):\n",
    "        try:\n",
    "            # Get image filename\n",
    "            img_filename = self.image_files[idx]\n",
    "            base_name = img_filename.replace('_instance_id_RGB.png', '')\n",
    "            \n",
    "            # Create a dummy RGB image since we don't have original images\n",
    "            # In practice, you should load the actual RGB image here\n",
    "            img = Image.new('RGB', (800, 800), color=(128, 128, 128))\n",
    "            \n",
    "            # Load instance mask\n",
    "            instance_mask_path = self.instance_masks_dir / img_filename\n",
    "            if not instance_mask_path.exists():\n",
    "                raise FileNotFoundError(f\"Instance mask not found: {instance_mask_path}\")\n",
    "                \n",
    "            instance_mask = np.array(Image.open(instance_mask_path))\n",
    "            \n",
    "            # Load semantic mask\n",
    "            semantic_filename = img_filename.replace('_instance_id_RGB.png', '_instance_color_RGB.png')\n",
    "            semantic_mask_path = self.semantic_masks_dir / semantic_filename\n",
    "            \n",
    "            if not semantic_mask_path.exists():\n",
    "                raise FileNotFoundError(f\"Semantic mask not found: {semantic_mask_path}\")\n",
    "                \n",
    "            semantic_mask = np.array(Image.open(semantic_mask_path))\n",
    "            \n",
    "            # Resize image to match mask dimensions\n",
    "            mask_height, mask_width = instance_mask.shape[:2]\n",
    "            img = img.resize((mask_width, mask_height))\n",
    "            \n",
    "            # Extract individual instances from masks\n",
    "            boxes, labels, masks = self.extract_instances(instance_mask, semantic_mask)\n",
    "            \n",
    "            # Handle empty detections\n",
    "            if len(boxes) == 0:\n",
    "                boxes = torch.zeros((0, 4), dtype=torch.float32)\n",
    "                labels = torch.zeros((0,), dtype=torch.int64)\n",
    "                masks = torch.zeros((0, mask_height, mask_width), dtype=torch.uint8)\n",
    "                area = torch.zeros((0,), dtype=torch.float32)\n",
    "                iscrowd = torch.zeros((0,), dtype=torch.int64)\n",
    "            else:\n",
    "                # Convert to tensors\n",
    "                boxes = torch.as_tensor(boxes, dtype=torch.float32)\n",
    "                labels = torch.as_tensor(labels, dtype=torch.int64)\n",
    "                masks = torch.as_tensor(masks, dtype=torch.uint8)\n",
    "                area = (boxes[:, 3] - boxes[:, 1]) * (boxes[:, 2] - boxes[:, 0])\n",
    "                iscrowd = torch.zeros((len(boxes),), dtype=torch.int64)\n",
    "            \n",
    "            image_id = torch.tensor([idx])\n",
    "            \n",
    "            target = {\n",
    "                \"boxes\": boxes,\n",
    "                \"labels\": labels,\n",
    "                \"masks\": masks,\n",
    "                \"image_id\": image_id,\n",
    "                \"area\": area,\n",
    "                \"iscrowd\": iscrowd\n",
    "            }\n",
    "            \n",
    "            if self.transforms:\n",
    "                img = self.transforms(img)\n",
    "            else:\n",
    "                img = transforms.ToTensor()(img)\n",
    "                \n",
    "            return img, target\n",
    "            \n",
    "        except Exception as e:\n",
    "            print(f\"Error loading sample {idx}: {str(e)}\")\n",
    "            # Return a dummy sample in case of error\n",
    "            dummy_img = torch.zeros((3, 800, 800), dtype=torch.float32)\n",
    "            dummy_target = {\n",
    "                \"boxes\": torch.zeros((0, 4), dtype=torch.float32),\n",
    "                \"labels\": torch.zeros((0,), dtype=torch.int64),\n",
    "                \"masks\": torch.zeros((0, 800, 800), dtype=torch.uint8),\n",
    "                \"image_id\": torch.tensor([idx]),\n",
    "                \"area\": torch.zeros((0,), dtype=torch.float32),\n",
    "                \"iscrowd\": torch.zeros((0,), dtype=torch.int64)\n",
    "            }\n",
    "            return dummy_img, dummy_target\n",
    "    \n",
    "    def extract_instances(self, instance_mask, semantic_mask):\n",
    "        \"\"\"Extract individual instances from masks\"\"\"\n",
    "        try:\n",
    "            # Handle different mask dimensions\n",
    "            if len(instance_mask.shape) == 3:\n",
    "                # If RGB, convert to grayscale by taking one channel\n",
    "                instance_mask = instance_mask[:, :, 0]\n",
    "            \n",
    "            # Get unique instance IDs (excluding background)\n",
    "            unique_instances = np.unique(instance_mask)\n",
    "            unique_instances = unique_instances[unique_instances > 0]  # Remove background\n",
    "            \n",
    "            boxes = []\n",
    "            labels = []\n",
    "            masks = []\n",
    "            \n",
    "            for instance_id in unique_instances:\n",
    "                # Create binary mask for this instance\n",
    "                instance_binary_mask = (instance_mask == instance_id).astype(np.uint8)\n",
    "                \n",
    "                # Skip if mask is too small\n",
    "                if np.sum(instance_binary_mask) < 100:  # Increased threshold\n",
    "                    continue\n",
    "                    \n",
    "                # Get bounding box\n",
    "                pos = np.where(instance_binary_mask)\n",
    "                if len(pos[0]) == 0:\n",
    "                    continue\n",
    "                    \n",
    "                xmin = int(np.min(pos[1]))\n",
    "                xmax = int(np.max(pos[1]))\n",
    "                ymin = int(np.min(pos[0]))\n",
    "                ymax = int(np.max(pos[0]))\n",
    "                \n",
    "                # Skip invalid boxes\n",
    "                if xmax <= xmin or ymax <= ymin or (xmax - xmin) < 5 or (ymax - ymin) < 5:\n",
    "                    continue\n",
    "                \n",
    "                boxes.append([xmin, ymin, xmax, ymax])\n",
    "                \n",
    "                # Get class label from semantic mask\n",
    "                class_label = self.get_class_from_semantic_mask(semantic_mask, instance_binary_mask)\n",
    "                labels.append(class_label)\n",
    "                masks.append(instance_binary_mask)\n",
    "            \n",
    "            return boxes, labels, masks\n",
    "            \n",
    "        except Exception as e:\n",
    "            print(f\"Error extracting instances: {str(e)}\")\n",
    "            return [], [], []\n",
    "    \n",
    "    def get_class_from_semantic_mask(self, semantic_mask, instance_mask):\n",
    "        \"\"\"Get class label from semantic mask for a specific instance\"\"\"\n",
    "        try:\n",
    "            # Get the region corresponding to this instance\n",
    "            masked_semantic = semantic_mask[instance_mask > 0]\n",
    "            \n",
    "            if len(masked_semantic) == 0:\n",
    "                return 1  # Default class\n",
    "            \n",
    "            # If semantic mask is RGB, get the most common RGB value\n",
    "            if len(semantic_mask.shape) == 3:\n",
    "                # Reshape to get RGB values\n",
    "                rgb_values = masked_semantic.reshape(-1, 3)\n",
    "                \n",
    "                # Find most common RGB value\n",
    "                unique_colors, counts = np.unique(rgb_values, axis=0, return_counts=True)\n",
    "                most_common_color = tuple(unique_colors[np.argmax(counts)])\n",
    "                \n",
    "                # Map to class index\n",
    "                return self.rgb_to_class.get(most_common_color, 1)\n",
    "            else:\n",
    "                # If grayscale, use the most common value directly\n",
    "                unique_values, counts = np.unique(masked_semantic, return_counts=True)\n",
    "                most_common_value = unique_values[np.argmax(counts)]\n",
    "                return min(int(most_common_value), 15)  # Clamp to valid class range\n",
    "                \n",
    "        except Exception as e:\n",
    "            print(f\"Error getting class from semantic mask: {str(e)}\")\n",
    "            return 1  # Default class\n",
    "\n",
    "\n",
    "def get_model(num_classes):\n",
    "    \"\"\"Create Mask R-CNN model\"\"\"\n",
    "    # Load pre-trained model\n",
    "    model = maskrcnn_resnet50_fpn(pretrained=True)\n",
    "    \n",
    "    # Get the number of input features for the classifier\n",
    "    in_features = model.roi_heads.box_predictor.cls_score.in_features\n",
    "    \n",
    "    # Replace the pre-trained head with a new one\n",
    "    model.roi_heads.box_predictor = FastRCNNPredictor(in_features, num_classes)\n",
    "    \n",
    "    # Get the number of input features for the mask classifier\n",
    "    in_features_mask = model.roi_heads.mask_predictor.conv5_mask.in_channels\n",
    "    hidden_layer = 256\n",
    "    \n",
    "    # Replace the mask predictor\n",
    "    model.roi_heads.mask_predictor = MaskRCNNPredictor(in_features_mask, hidden_layer, num_classes)\n",
    "    \n",
    "    return model\n",
    "\n",
    "\n",
    "def collate_fn(batch):\n",
    "    \"\"\"Custom collate function for DataLoader\"\"\"\n",
    "    # Filter out None values\n",
    "    batch = [b for b in batch if b is not None]\n",
    "    if len(batch) == 0:\n",
    "        return [], []\n",
    "    return tuple(zip(*batch))\n",
    "\n",
    "\n",
    "def train_one_epoch(model, optimizer, data_loader, device, epoch, print_freq=10):\n",
    "    \"\"\"Train for one epoch\"\"\"\n",
    "    model.train()\n",
    "    running_loss = 0.0\n",
    "    num_batches = 0\n",
    "    \n",
    "    for i, (images, targets) in enumerate(tqdm(data_loader, desc=f\"Epoch {epoch}\")):\n",
    "        try:\n",
    "            if len(images) == 0:\n",
    "                continue\n",
    "                \n",
    "            images = list(image.to(device) for image in images)\n",
    "            targets = [{k: v.to(device) for k, v in t.items()} for t in targets]\n",
    "            \n",
    "            # Forward pass\n",
    "            loss_dict = model(images, targets)\n",
    "            losses = sum(loss for loss in loss_dict.values())\n",
    "            \n",
    "            # Check for invalid loss\n",
    "            if torch.isnan(losses) or torch.isinf(losses):\n",
    "                print(f\"Invalid loss detected, skipping batch {i}\")\n",
    "                continue\n",
    "            \n",
    "            # Backward pass\n",
    "            optimizer.zero_grad()\n",
    "            losses.backward()\n",
    "            \n",
    "            # Gradient clipping\n",
    "            torch.nn.utils.clip_grad_norm_(model.parameters(), max_norm=1.0)\n",
    "            \n",
    "            optimizer.step()\n",
    "            \n",
    "            running_loss += losses.item()\n",
    "            num_batches += 1\n",
    "            \n",
    "            if i % print_freq == 0:\n",
    "                print(f\"Epoch: {epoch}, Batch: {i}, Loss: {losses.item():.4f}\")\n",
    "                for k, v in loss_dict.items():\n",
    "                    print(f\"  {k}: {v.item():.4f}\")\n",
    "                    \n",
    "        except Exception as e:\n",
    "            print(f\"Error in batch {i}: {str(e)}\")\n",
    "            continue\n",
    "    \n",
    "    return running_loss / max(num_batches, 1)\n",
    "\n",
    "\n",
    "def evaluate(model, data_loader, device):\n",
    "    \"\"\"Evaluate the model\"\"\"\n",
    "    model.eval()\n",
    "    total_loss = 0.0\n",
    "    num_batches = 0\n",
    "    \n",
    "    with torch.no_grad():\n",
    "        for i, (images, targets) in enumerate(tqdm(data_loader, desc=\"Evaluating\")):\n",
    "            try:\n",
    "                if len(images) == 0:\n",
    "                    continue\n",
    "                    \n",
    "                images = list(image.to(device) for image in images)\n",
    "                targets = [{k: v.to(device) for k, v in t.items()} for t in targets]\n",
    "                \n",
    "                loss_dict = model(images, targets)\n",
    "                losses = sum(loss for loss in loss_dict.values())\n",
    "                \n",
    "                if not (torch.isnan(losses) or torch.isinf(losses)):\n",
    "                    total_loss += losses.item()\n",
    "                    num_batches += 1\n",
    "                    \n",
    "            except Exception as e:\n",
    "                print(f\"Error in evaluation batch {i}: {str(e)}\")\n",
    "                continue\n",
    "    \n",
    "    return total_loss / max(num_batches, 1)\n",
    "\n",
    "\n",
    "def main():\n",
    "    # Configuration\n",
    "    config = {\n",
    "        'data_dir': '/Users/soumendusekharbhattacharjee/Downloads/iSAID_data/train',\n",
    "        'batch_size': 1,  # Reduced batch size for stability\n",
    "        'num_epochs': 1,  # Reduced for testing\n",
    "        'learning_rate': 0.001,  # Reduced learning rate\n",
    "        'weight_decay': 0.0005,\n",
    "        'num_workers': 0,  # Set to 0 to avoid multiprocessing issues\n",
    "        'save_dir': './checkpoints',\n",
    "        'num_classes': 16  # 15 classes + background\n",
    "    }\n",
    "    \n",
    "    # Create save directory\n",
    "    os.makedirs(config['save_dir'], exist_ok=True)\n",
    "    \n",
    "    # Device configuration\n",
    "    device = torch.device('cuda' if torch.cuda.is_available() else 'cpu')\n",
    "    print(f\"Using device: {device}\")\n",
    "    \n",
    "    # Data transforms\n",
    "    transform = transforms.Compose([\n",
    "        transforms.ToTensor(),\n",
    "    ])\n",
    "    \n",
    "    try:\n",
    "        # Dataset and DataLoader\n",
    "        print(\"Loading dataset...\")\n",
    "        dataset = iSAIDDataset(config['data_dir'], transforms=transform)\n",
    "        \n",
    "        if len(dataset) == 0:\n",
    "            raise ValueError(\"No valid samples found in dataset\")\n",
    "        \n",
    "        # Split dataset (use a smaller subset for testing)\n",
    "        total_size = min(len(dataset), 100)  # Limit to 100 samples for testing\n",
    "        train_size = int(0.8 * total_size)\n",
    "        val_size = total_size - train_size\n",
    "        \n",
    "        # Use subset for faster testing\n",
    "        indices = list(range(total_size))\n",
    "        train_indices = indices[:train_size]\n",
    "        val_indices = indices[train_size:total_size]\n",
    "        \n",
    "        train_dataset = torch.utils.data.Subset(dataset, train_indices)\n",
    "        val_dataset = torch.utils.data.Subset(dataset, val_indices)\n",
    "        \n",
    "        print(f\"Train samples: {len(train_dataset)}, Val samples: {len(val_dataset)}\")\n",
    "        \n",
    "        train_loader = DataLoader(\n",
    "            train_dataset,\n",
    "            batch_size=config['batch_size'],\n",
    "            shuffle=True,\n",
    "            num_workers=config['num_workers'],\n",
    "            collate_fn=collate_fn,\n",
    "            pin_memory=True if device.type == 'cuda' else False\n",
    "        )\n",
    "        \n",
    "        val_loader = DataLoader(\n",
    "            val_dataset,\n",
    "            batch_size=config['batch_size'],\n",
    "            shuffle=False,\n",
    "            num_workers=config['num_workers'],\n",
    "            collate_fn=collate_fn,\n",
    "            pin_memory=True if device.type == 'cuda' else False\n",
    "        )\n",
    "        \n",
    "        # Test data loading\n",
    "        print(\"Testing data loading...\")\n",
    "        for i, (images, targets) in enumerate(train_loader):\n",
    "            print(f\"Batch {i}: {len(images)} images\")\n",
    "            if i >= 2:  # Test first few batches\n",
    "                break\n",
    "        \n",
    "        # Model\n",
    "        print(\"Loading model...\")\n",
    "        model = get_model(config['num_classes'])\n",
    "        model.to(device)\n",
    "        \n",
    "        # Optimizer\n",
    "        params = [p for p in model.parameters() if p.requires_grad]\n",
    "        optimizer = optim.SGD(params, lr=config['learning_rate'], \n",
    "                             momentum=0.9, weight_decay=config['weight_decay'])\n",
    "        \n",
    "        # Learning rate scheduler\n",
    "        lr_scheduler = optim.lr_scheduler.StepLR(optimizer, step_size=2, gamma=0.5)\n",
    "        \n",
    "        print(\"Starting training...\")\n",
    "        \n",
    "        # Training loop\n",
    "        train_losses = []\n",
    "        val_losses = []\n",
    "        \n",
    "        for epoch in range(config['num_epochs']):\n",
    "            print(f\"\\n=== Epoch {epoch+1}/{config['num_epochs']} ===\")\n",
    "            \n",
    "            # Train\n",
    "            train_loss = train_one_epoch(model, optimizer, train_loader, device, epoch)\n",
    "            train_losses.append(train_loss)\n",
    "            \n",
    "            # Validate\n",
    "            val_loss = evaluate(model, val_loader, device)\n",
    "            val_losses.append(val_loss)\n",
    "            \n",
    "            # Update learning rate\n",
    "            lr_scheduler.step()\n",
    "            \n",
    "            print(f\"Epoch {epoch+1}: Train Loss: {train_loss:.4f}, Val Loss: {val_loss:.4f}\")\n",
    "            print(f\"Learning Rate: {optimizer.param_groups[0]['lr']:.6f}\")\n",
    "            \n",
    "            # Save checkpoint\n",
    "            checkpoint = {\n",
    "                'epoch': epoch,\n",
    "                'model_state_dict': model.state_dict(),\n",
    "                'optimizer_state_dict': optimizer.state_dict(),\n",
    "                'train_loss': train_loss,\n",
    "                'val_loss': val_loss,\n",
    "            }\n",
    "            torch.save(checkpoint, f\"{config['save_dir']}/maskrcnn_epoch_{epoch}.pth\")\n",
    "            print(f\"Checkpoint saved: maskrcnn_epoch_{epoch}.pth\")\n",
    "        \n",
    "        # Plot training curves\n",
    "        plt.figure(figsize=(10, 5))\n",
    "        plt.plot(range(1, len(train_losses)+1), train_losses, 'b-', label='Train Loss')\n",
    "        plt.plot(range(1, len(val_losses)+1), val_losses, 'r-', label='Val Loss')\n",
    "        plt.xlabel('Epoch')\n",
    "        plt.ylabel('Loss')\n",
    "        plt.legend()\n",
    "        plt.title('Training and Validation Loss')\n",
    "        plt.grid(True)\n",
    "        plt.savefig(f\"{config['save_dir']}/training_curves.png\")\n",
    "        plt.show()\n",
    "        \n",
    "        print(\"Training completed successfully!\")\n",
    "        \n",
    "    except Exception as e:\n",
    "        print(f\"Error during training: {str(e)}\")\n",
    "        import traceback\n",
    "        traceback.print_exc()\n",
    "\n",
    "\n",
    "if __name__ == \"__main__\":\n",
    "    main()"
   ]
  },
  {
   "cell_type": "code",
   "execution_count": null,
   "id": "4963fdd2-f66a-451e-b443-bc6c4c2f793a",
   "metadata": {},
   "outputs": [],
   "source": []
  }
 ],
 "metadata": {
  "kernelspec": {
   "display_name": "Python 3 (ipykernel)",
   "language": "python",
   "name": "python3"
  },
  "language_info": {
   "codemirror_mode": {
    "name": "ipython",
    "version": 3
   },
   "file_extension": ".py",
   "mimetype": "text/x-python",
   "name": "python",
   "nbconvert_exporter": "python",
   "pygments_lexer": "ipython3",
   "version": "3.11.13"
  }
 },
 "nbformat": 4,
 "nbformat_minor": 5
}
